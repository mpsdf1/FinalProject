{
 "cells": [
  {
   "cell_type": "code",
   "execution_count": 1,
   "id": "4fdfa7d1-fb94-407f-9399-295e1b449eb9",
   "metadata": {},
   "outputs": [],
   "source": [
    "import pandas as pd\n",
    "import os\n",
    "import matplotlib.pyplot as plt\n",
    "import numpy as np\n",
    "from sklearn.model_selection import train_test_split\n",
    "from sklearn.preprocessing import StandardScaler, LabelEncoder\n",
    "from imblearn.over_sampling import SMOTE"
   ]
  },
  {
   "cell_type": "code",
   "execution_count": 2,
   "id": "2106c789-57f9-49ee-a81d-6fa8fe40f887",
   "metadata": {},
   "outputs": [],
   "source": [
    "# Preprocessing phase (parameter test size and if need to handle class imbalance using SMOTE\n",
    "def preprocessing(test_size, use_SMOTE):\n",
    "    # Load Dataset\n",
    "    raw_data = pd.read_csv(\"data.csv\", delimiter=';')\n",
    "\n",
    "    # Define classes                     \n",
    "    target_classes = ['Dropout', 'Graduate']\n",
    "\n",
    "    # Filter the dataset to include only 'Dropout' and 'Graduate' in the target column\n",
    "    raw_data = raw_data[raw_data['Target'].isin(target_classes)]\n",
    "\n",
    "    # Select Suggested Variables\n",
    "    selected_features = [\n",
    "    'Curricular units 1st sem (grade)', \n",
    "    'Curricular units 1st sem (approved)', \n",
    "    'Curricular units 2nd sem (grade)', \n",
    "    'Curricular units 2nd sem (approved)', \n",
    "    'Curricular units 1st sem (evaluations)', \n",
    "    'Curricular units 2nd sem (evaluations)', \n",
    "    'Admission grade', \n",
    "    'Previous qualification (grade)', \n",
    "    'Tuition fees up to date', \n",
    "    'Scholarship holder', \n",
    "    'Age at enrollment', \n",
    "    'Daytime/evening attendance\\t', \n",
    "    'Application mode', \n",
    "    'Application order'\n",
    "    ]\n",
    "    data = raw_data[selected_features + ['Target']]\n",
    "\n",
    "    # Encode Categorical Variables\n",
    "    categorical_features = ['Daytime/evening attendance\\t', 'Application mode', 'Application order', 'Target']\n",
    "    for col in categorical_features:\n",
    "        data[col] = LabelEncoder().fit_transform(data[col])\n",
    "\n",
    "    # Split Data into Features and Target\n",
    "    X = data.drop(columns=['Target'])\n",
    "    y = data['Target']\n",
    "\n",
    "    # Train-Test Split\n",
    "    X_train, X_test, y_train, y_test = train_test_split(X, y, test_size=test_size, random_state=42)\n",
    "\n",
    "    # Standardize Features\n",
    "    scaler = StandardScaler()\n",
    "    X_train = scaler.fit_transform(X_train)\n",
    "    X_test = scaler.transform(X_test)\n",
    "\n",
    "    # Handle class imbalance using SMOTE\n",
    "    if use_SMOTE: \n",
    "        smote = SMOTE(random_state=42)\n",
    "        X_train, y_train = smote.fit_resample(X_train, y_train)\n",
    "\n",
    "    return X_train, X_test, y_train, y_test"
   ]
  }
 ],
 "metadata": {
  "kernelspec": {
   "display_name": "Python 3 (ipykernel)",
   "language": "python",
   "name": "python3"
  },
  "language_info": {
   "codemirror_mode": {
    "name": "ipython",
    "version": 3
   },
   "file_extension": ".py",
   "mimetype": "text/x-python",
   "name": "python",
   "nbconvert_exporter": "python",
   "pygments_lexer": "ipython3",
   "version": "3.11.5"
  }
 },
 "nbformat": 4,
 "nbformat_minor": 5
}
